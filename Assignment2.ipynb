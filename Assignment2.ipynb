{
 "cells": [
  {
   "cell_type": "code",
   "execution_count": 1,
   "metadata": {},
   "outputs": [
    {
     "name": "stdout",
     "output_type": "stream",
     "text": [
      "Assignment qa1\n",
      "*\n",
      "**\n",
      "***\n",
      "****\n",
      "*****\n",
      "****\n",
      "***\n",
      "**\n",
      "*\n",
      "Assignment qa2\n",
      "Enter the string: inueron\n",
      "noreuni\n"
     ]
    }
   ],
   "source": [
    "def pattern(number):\n",
    "    \"\"\"\n",
    "    Create the pattern.\n",
    "    :param number: Integer number.\n",
    "    \"\"\"\n",
    "    for i in range(1, number + 1):\n",
    "        for j in range(1, i + 1):\n",
    "            print('*', end='')\n",
    "        print()\n",
    "\n",
    "    for i in range(number, 1, -1):\n",
    "        for j in range(i, 1, -1):\n",
    "            print('*', end='')\n",
    "        print()\n",
    "\n",
    "\n",
    "reversString = lambda strng:''.join(list(strng)[::-1])\n",
    "\n",
    "if __name__ == '__main__':\n",
    "    print('Assignment qa1')\n",
    "    pattern(5)\n",
    "    print('Assignment qa2')\n",
    "    print(reversString(input('Enter the string: ')))\n",
    "\n",
    "    "
   ]
  },
  {
   "cell_type": "code",
   "execution_count": null,
   "metadata": {},
   "outputs": [],
   "source": []
  }
 ],
 "metadata": {
  "kernelspec": {
   "display_name": "Python 3",
   "language": "python",
   "name": "python3"
  },
  "language_info": {
   "codemirror_mode": {
    "name": "ipython",
    "version": 3
   },
   "file_extension": ".py",
   "mimetype": "text/x-python",
   "name": "python",
   "nbconvert_exporter": "python",
   "pygments_lexer": "ipython3",
   "version": "3.8.3"
  }
 },
 "nbformat": 4,
 "nbformat_minor": 4
}
