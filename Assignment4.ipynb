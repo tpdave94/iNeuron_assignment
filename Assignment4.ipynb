{
 "cells": [
  {
   "cell_type": "code",
   "execution_count": 1,
   "metadata": {},
   "outputs": [
    {
     "name": "stdout",
     "output_type": "stream",
     "text": [
      "Flight Data\n",
      "----------------------------------------------------------------------------------------------------\n",
      "   FlightNumber  RecentDelays              Airline      From         To  \\\n",
      "0         10045      [23, 47]               KLM(!)    London      Paris   \n",
      "1         10055            []    <Air France> (12)    Madrid      Milan   \n",
      "2         10065  [24, 43, 87]  (British Airways. )    London  Stockholm   \n",
      "3         10075          [13]       12. Air France  Budapest      Paris   \n",
      "4         10085      [67, 32]          \"Swiss Air\"  Brussels     London   \n",
      "\n",
      "   delay_0  delay_1  delay_2  \n",
      "0     23.0     47.0      NaN  \n",
      "1      NaN      NaN      NaN  \n",
      "2     24.0     43.0     87.0  \n",
      "3     13.0      NaN      NaN  \n",
      "4     67.0     32.0      NaN  \n"
     ]
    }
   ],
   "source": [
    "import pandas as pd\n",
    "import numpy as np\n",
    "data_dict = {'From_To': ['LoNDon_paris', 'MAdrid_miLAN', 'londON_StockhOlm', 'Budapest_PaRis', 'Brussels_londOn'],\n",
    "'FlightNumber': [10045, np.nan, 10065, np.nan, 10085],\n",
    "'RecentDelays': [[23, 47], [], [24, 43, 87], [13], [67, 32]],\n",
    "'Airline': ['KLM(!)', '<Air France> (12)', '(British Airways. )', '12. Air France', '\"Swiss Air\"']}\n",
    "data_frame = pd.DataFrame(data_dict)\n",
    "print('Flight Data')\n",
    "print('-'*100, sep='')\n",
    "pd.set_option('display.max_columns', None)\n",
    "\n",
    "def addFlightNumberMissingData():\n",
    "    data_frame['FlightNumber'] = data_frame['FlightNumber'].fillna(0).astype(int)\n",
    "    for i in range(1, len(data_frame)):\n",
    "        data_frame.loc[i, 'FlightNumber'] = data_frame.loc[i-1, 'FlightNumber'] + 10\n",
    "\n",
    "def addFromAndToColumn():\n",
    "    data_frame['From'] = data_frame['From_To'].apply(lambda x: x.split('_')[0])\n",
    "    data_frame['To'] = data_frame['From_To'].apply(lambda x: x.split('_')[1])\n",
    "    data_frame.drop('From_To', axis=1, inplace=True)\n",
    "    data_frame['From'] = data_frame['From'].apply(lambda x: x[0].upper() + x[1:].lower())\n",
    "    data_frame['To'] = data_frame['To'].apply(lambda x: x[0].upper() + x[1:].lower())\n",
    "\n",
    "def addDelayColumn():\n",
    "    for i in range(0, len(data_frame)):\n",
    "        for j in range(0, len(data_frame.loc[i, 'RecentDelays'])):\n",
    "            data_frame.loc[i, 'delay_'+str(j)] = data_frame.loc[i, 'RecentDelays'][j]\n",
    "\n",
    "addFlightNumberMissingData()\n",
    "addFromAndToColumn()\n",
    "addDelayColumn()\n",
    "print(data_frame)"
   ]
  },
  {
   "cell_type": "code",
   "execution_count": null,
   "metadata": {},
   "outputs": [],
   "source": []
  }
 ],
 "metadata": {
  "kernelspec": {
   "display_name": "Python 3",
   "language": "python",
   "name": "python3"
  },
  "language_info": {
   "codemirror_mode": {
    "name": "ipython",
    "version": 3
   },
   "file_extension": ".py",
   "mimetype": "text/x-python",
   "name": "python",
   "nbconvert_exporter": "python",
   "pygments_lexer": "ipython3",
   "version": "3.8.3"
  }
 },
 "nbformat": 4,
 "nbformat_minor": 4
}
